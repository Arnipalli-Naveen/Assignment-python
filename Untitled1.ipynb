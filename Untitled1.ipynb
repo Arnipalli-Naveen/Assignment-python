{
  "nbformat": 4,
  "nbformat_minor": 0,
  "metadata": {
    "colab": {
      "name": "Untitled1.ipynb",
      "provenance": [],
      "authorship_tag": "ABX9TyMQWzBTqABJlDe2kzgR1Q4J",
      "include_colab_link": true
    },
    "kernelspec": {
      "name": "python3",
      "display_name": "Python 3"
    }
  },
  "cells": [
    {
      "cell_type": "markdown",
      "metadata": {
        "id": "view-in-github",
        "colab_type": "text"
      },
      "source": [
        "<a href=\"https://colab.research.google.com/github/Arnipalli-Naveen/Assignment-python/blob/master/Untitled1.ipynb\" target=\"_parent\"><img src=\"https://colab.research.google.com/assets/colab-badge.svg\" alt=\"Open In Colab\"/></a>"
      ]
    },
    {
      "cell_type": "code",
      "metadata": {
        "id": "h7ShNPv6s8aN",
        "colab_type": "code",
        "colab": {}
      },
      "source": [
        "def getInput(calculate_arg_fun):\n",
        "    def wrap_function():\n",
        "        print(\"enter number for fibonacci series\")\n",
        "        n=int(input(\"enter number-\"))\n",
        "        calculate_arg_fun(n)\n",
        "    return wrap_function"
      ],
      "execution_count": 32,
      "outputs": []
    },
    {
      "cell_type": "code",
      "metadata": {
        "id": "Ugr4w7YTwIYc",
        "colab_type": "code",
        "colab": {}
      },
      "source": [
        "@getInput\n",
        "def fibo(n):\n",
        "    a = 0\n",
        "    b = 1\n",
        "    if n <= 0:\n",
        "        print(\"Incorrect input\")\n",
        "    elif n == 1:\n",
        "        return b\n",
        "    else:\n",
        "        for i in range(2,n):\n",
        "            c = a + b\n",
        "            a = b\n",
        "            b = c\n",
        "        return b\n"
      ],
      "execution_count": 39,
      "outputs": []
    },
    {
      "cell_type": "code",
      "metadata": {
        "id": "zlnSCRm4xOdN",
        "colab_type": "code",
        "colab": {
          "base_uri": "https://localhost:8080/",
          "height": 51
        },
        "outputId": "3d436100-c30c-4001-e3cc-847d6be510c9"
      },
      "source": [
        "fibo()"
      ],
      "execution_count": 40,
      "outputs": [
        {
          "output_type": "stream",
          "text": [
            "enter number for fibonacci series\n",
            "enter number-5\n"
          ],
          "name": "stdout"
        }
      ]
    }
  ]
}