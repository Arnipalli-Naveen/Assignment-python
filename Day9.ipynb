{
  "nbformat": 4,
  "nbformat_minor": 0,
  "metadata": {
    "colab": {
      "name": "Day9.ipynb",
      "provenance": [],
      "authorship_tag": "ABX9TyMHQ/IsQklXwgd5Br3EMJ1s",
      "include_colab_link": true
    },
    "kernelspec": {
      "name": "python3",
      "display_name": "Python 3"
    }
  },
  "cells": [
    {
      "cell_type": "markdown",
      "metadata": {
        "id": "view-in-github",
        "colab_type": "text"
      },
      "source": [
        "<a href=\"https://colab.research.google.com/github/Arnipalli-Naveen/Assignment-python/blob/master/Day9.ipynb\" target=\"_parent\"><img src=\"https://colab.research.google.com/assets/colab-badge.svg\" alt=\"Open In Colab\"/></a>"
      ]
    },
    {
      "cell_type": "code",
      "metadata": {
        "id": "EXXu2Wyf-pQQ",
        "colab_type": "code",
        "colab": {}
      },
      "source": [
        "lst=list(range(1000))"
      ],
      "execution_count": null,
      "outputs": []
    },
    {
      "cell_type": "code",
      "metadata": {
        "id": "CbW69CJO-xcD",
        "colab_type": "code",
        "colab": {}
      },
      "source": [
        "def getArmstrongNumberGen(lst):\n",
        "    for num in lst:\n",
        "        order=len(str(num))\n",
        "        sum=0\n",
        "        temp=num\n",
        "    while temp>0:\n",
        "      digit=temp%10\n",
        "      sum+=digit**order\n",
        "      temp//=10\n",
        "    if num==sum:\n",
        "       yield num"
      ],
      "execution_count": null,
      "outputs": []
    },
    {
      "cell_type": "code",
      "metadata": {
        "id": "gCKP-o4V_YnY",
        "colab_type": "code",
        "colab": {
          "base_uri": "https://localhost:8080/",
          "height": 163
        },
        "outputId": "fd04b28d-395a-4e61-cd91-8133ba6ce1a2"
      },
      "source": [
        "list(getArmstrongNumberGen(lst))"
      ],
      "execution_count": 1,
      "outputs": [
        {
          "output_type": "error",
          "ename": "NameError",
          "evalue": "ignored",
          "traceback": [
            "\u001b[0;31m---------------------------------------------------------------------------\u001b[0m",
            "\u001b[0;31mNameError\u001b[0m                                 Traceback (most recent call last)",
            "\u001b[0;32m<ipython-input-1-87269268e302>\u001b[0m in \u001b[0;36m<module>\u001b[0;34m()\u001b[0m\n\u001b[0;32m----> 1\u001b[0;31m \u001b[0mlist\u001b[0m\u001b[0;34m(\u001b[0m\u001b[0mgetArmstrongNumberGen\u001b[0m\u001b[0;34m(\u001b[0m\u001b[0mlst\u001b[0m\u001b[0;34m)\u001b[0m\u001b[0;34m)\u001b[0m\u001b[0;34m\u001b[0m\u001b[0;34m\u001b[0m\u001b[0m\n\u001b[0m",
            "\u001b[0;31mNameError\u001b[0m: name 'getArmstrongNumberGen' is not defined"
          ]
        }
      ]
    },
    {
      "cell_type": "code",
      "metadata": {
        "id": "7crmJ0bQMedC",
        "colab_type": "code",
        "colab": {}
      },
      "source": [
        "def is_prime(number):\n",
        "    for element in range(number):\n",
        "        if number % element == 0:\n",
        "            return False\n",
        "\n",
        "    return True\n",
        "\n",
        "def print_next_prime(number):\n",
        "    index = number\n",
        "    while True:\n",
        "        index += 1\n",
        "        if is_prime(index):\n",
        "            print(index)"
      ],
      "execution_count": 6,
      "outputs": []
    },
    {
      "cell_type": "code",
      "metadata": {
        "id": "L2ald39OM4sD",
        "colab_type": "code",
        "colab": {
          "base_uri": "https://localhost:8080/",
          "height": 34
        },
        "outputId": "376d5cef-f349-4f19-ec4a-58de6807681c"
      },
      "source": [
        "%%writefile print_next_prime.py\n",
        "import unittest\n",
        "from primes import is_prime\n",
        "\n",
        "class primesTestCase(unittest.TestCase):\n",
        "\n",
        "    def test_is_prime(self):\n",
        "        self.assertTrue(is_prime(5))\n",
        "\n",
        "if __name__ == '__main__':\n",
        "    unittest.main()"
      ],
      "execution_count": 12,
      "outputs": [
        {
          "output_type": "stream",
          "text": [
            "Overwriting print_next_prime.py\n"
          ],
          "name": "stdout"
        }
      ]
    }
  ]
}