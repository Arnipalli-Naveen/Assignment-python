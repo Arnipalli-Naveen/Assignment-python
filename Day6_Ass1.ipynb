{
  "nbformat": 4,
  "nbformat_minor": 0,
  "metadata": {
    "colab": {
      "name": "Day6-Ass1.ipynb",
      "provenance": [],
      "authorship_tag": "ABX9TyMYYO+tt83p0G5zIJLl4AIm",
      "include_colab_link": true
    },
    "kernelspec": {
      "name": "python3",
      "display_name": "Python 3"
    }
  },
  "cells": [
    {
      "cell_type": "markdown",
      "metadata": {
        "id": "view-in-github",
        "colab_type": "text"
      },
      "source": [
        "<a href=\"https://colab.research.google.com/github/Arnipalli-Naveen/Assignment-python/blob/master/Day6_Ass1.ipynb\" target=\"_parent\"><img src=\"https://colab.research.google.com/assets/colab-badge.svg\" alt=\"Open In Colab\"/></a>"
      ]
    },
    {
      "cell_type": "code",
      "metadata": {
        "id": "eFLcKmqEwZb7",
        "colab_type": "code",
        "colab": {}
      },
      "source": [
        "class Bank_Account: \n",
        "    def __init__(self): \n",
        "        self.balance=0\n",
        "        print(\"Hello!!! Welcome to your Bank Account\") \n",
        "  \n",
        "    def deposit(self): \n",
        "        input(\"Name of Account Holder:\")\n",
        "        amount=float(input(\"Enter amount to be Deposited: \")) \n",
        "        self.balance = self.balance + amount \n",
        "        print(\"\\n Amount Deposited:\",amount) \n",
        "  \n",
        "    def withdraw(self): \n",
        "        amount = float(input(\"Enter amount to be Withdrawn: \")) \n",
        "        if self.balance>=amount: \n",
        "            self.balance=self.balance-amount \n",
        "            print(\"\\n You Withdrew:\", amount) \n",
        "        else: \n",
        "            print(\"\\n Insufficient balance  \") \n",
        "  \n",
        "    def display(self): \n",
        "        print(\"\\n Net Available Balance=\",self.balance) "
      ],
      "execution_count": 8,
      "outputs": []
    },
    {
      "cell_type": "code",
      "metadata": {
        "id": "RHUaKWpfOAYk",
        "colab_type": "code",
        "colab": {}
      },
      "source": [
        ""
      ],
      "execution_count": null,
      "outputs": []
    },
    {
      "cell_type": "code",
      "metadata": {
        "id": "JbgXH2Y0wyaZ",
        "colab_type": "code",
        "colab": {
          "base_uri": "https://localhost:8080/",
          "height": 187
        },
        "outputId": "dfe994ce-c887-4f0a-fc26-dbc327962c73"
      },
      "source": [
        "s= Bank_Account()\n",
        "s.deposit()\n",
        "s.withdraw()\n",
        "s.display()"
      ],
      "execution_count": 10,
      "outputs": [
        {
          "output_type": "stream",
          "text": [
            "Hello!!! Welcome to your Bank Account\n",
            "Name of Account Holder:Naveen\n",
            "Enter amount to be Deposited: 7000\n",
            "\n",
            " Amount Deposited: 7000.0\n",
            "Enter amount to be Withdrawn: 3000\n",
            "\n",
            " You Withdrew: 3000.0\n",
            "\n",
            " Net Available Balance= 4000.0\n"
          ],
          "name": "stdout"
        }
      ]
    }
  ]
}