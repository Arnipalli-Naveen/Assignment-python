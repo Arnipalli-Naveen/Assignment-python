{
  "nbformat": 4,
  "nbformat_minor": 0,
  "metadata": {
    "colab": {
      "name": "Day6-Ass1.ipynb",
      "provenance": [],
      "authorship_tag": "ABX9TyMV+Z3VIm/KmfZXASt8q+Yz",
      "include_colab_link": true
    },
    "kernelspec": {
      "name": "python3",
      "display_name": "Python 3"
    }
  },
  "cells": [
    {
      "cell_type": "markdown",
      "metadata": {
        "id": "view-in-github",
        "colab_type": "text"
      },
      "source": [
        "<a href=\"https://colab.research.google.com/github/Arnipalli-Naveen/Assignment-python/blob/master/Day6_Ass1.ipynb\" target=\"_parent\"><img src=\"https://colab.research.google.com/assets/colab-badge.svg\" alt=\"Open In Colab\"/></a>"
      ]
    },
    {
      "cell_type": "code",
      "metadata": {
        "id": "eFLcKmqEwZb7",
        "colab_type": "code",
        "colab": {}
      },
      "source": [
        "class Bank_Account: \n",
        "    def __init__(self): \n",
        "        self.balance=0\n",
        "        print(\"Hello!!! Welcome to your Bank Account\") \n",
        "  \n",
        "    def deposit(self): \n",
        "        input(\"Name of Account Holder:\")\n",
        "        amount=float(input(\"Enter amount to be Deposited: \")) \n",
        "        self.balance = self.balance + amount \n",
        "        print(\"\\n Amount Deposited:\",amount) \n",
        "  \n",
        "    def withdraw(self): \n",
        "        amount = float(input(\"Enter amount to be Withdrawn: \")) \n",
        "        if self.balance>=amount: \n",
        "            self.balance=self.balance-amount \n",
        "            print(\"\\n You Withdrew:\", amount) \n",
        "        else: \n",
        "            print(\"\\n Insufficient balance  \") \n",
        "  \n",
        "    def display(self): \n",
        "        print(\"\\n Net Available Balance=\",self.balance) "
      ],
      "execution_count": null,
      "outputs": []
    },
    {
      "cell_type": "code",
      "metadata": {
        "id": "RHUaKWpfOAYk",
        "colab_type": "code",
        "colab": {}
      },
      "source": [
        ""
      ],
      "execution_count": null,
      "outputs": []
    },
    {
      "cell_type": "code",
      "metadata": {
        "id": "JbgXH2Y0wyaZ",
        "colab_type": "code",
        "colab": {
          "base_uri": "https://localhost:8080/",
          "height": 187
        },
        "outputId": "a9eac8f7-df18-46d0-becd-ad1a36207ef4"
      },
      "source": [
        "s= Bank_Account()\n",
        "s.deposit()\n",
        "s.withdraw()\n",
        "s.display()"
      ],
      "execution_count": null,
      "outputs": [
        {
          "output_type": "stream",
          "text": [
            "Hello!!! Welcome to your Bank Account\n",
            "Name of Account Holder:naveen\n",
            "Enter amount to be Deposited: 10000\n",
            "\n",
            " Amount Deposited: 10000.0\n",
            "Enter amount to be Withdrawn: 7000\n",
            "\n",
            " You Withdrew: 7000.0\n",
            "\n",
            " Net Available Balance= 3000.0\n"
          ],
          "name": "stdout"
        }
      ]
    },
    {
      "cell_type": "code",
      "metadata": {
        "id": "oByrzztzSJwo",
        "colab_type": "code",
        "colab": {}
      },
      "source": [
        "import math\n",
        "pi=math.pi\n",
        "\n",
        "def Vo_Cone(radius, height):\n",
        "    volume = (1/3)*pi*radius*radius*height\n",
        "    sa = pi*radius*radius*radius\n",
        "    print(\"Surface Area of cone %.f\" %sa)\n",
        "    print(\"Volume %.f\" %volume)\n"
      ],
      "execution_count": 18,
      "outputs": []
    },
    {
      "cell_type": "code",
      "metadata": {
        "id": "DVUxizIXraZ5",
        "colab_type": "code",
        "colab": {
          "base_uri": "https://localhost:8080/",
          "height": 51
        },
        "outputId": "d77fe718-3c6c-4308-8cd3-6963320778e6"
      },
      "source": [
        "Vo_Cone(6,10)"
      ],
      "execution_count": 20,
      "outputs": [
        {
          "output_type": "stream",
          "text": [
            "Surface Area of cone 679\n",
            "Volume 377\n"
          ],
          "name": "stdout"
        }
      ]
    }
  ]
}